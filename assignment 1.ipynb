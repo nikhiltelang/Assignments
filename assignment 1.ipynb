{
 "cells": [
  {
   "cell_type": "markdown",
   "metadata": {},
   "source": [
    "#### 1. What are the differences between operators and values in the following? \n",
    "#### *\n",
    "#### 'hello'\n",
    "#### -87.8\n",
    "#### -\n",
    "#### /\n",
    "#### +\n",
    "#### 6\n"
   ]
  },
  {
   "cell_type": "markdown",
   "metadata": {},
   "source": [
    "* : * is Arithmatic operator which for used to multiplication of two operants.\n",
    "'hello' : 'hello' is string value. in python and any other programming language between single quote and double quote used.\n",
    "-87.8 : -87.8 is the float value. (.) is denoted the floating number.\n",
    "- : - is arithmatic operator which used for subtraction of two operants.\n",
    "/ : / is arithmatic operator which used for division of two operants.\n",
    "+ : + is addition arithmatic operator which used for addition of two operants.\n",
    "6 : 6 is integer number."
   ]
  },
  {
   "cell_type": "markdown",
   "metadata": {},
   "source": [
    "#### 2. What is the difference between string and variable?\n",
    "#### spam\n",
    "#### 'spam'\n"
   ]
  },
  {
   "cell_type": "markdown",
   "metadata": {},
   "source": [
    "In python programming language and any other programming language when we are using a string is denoted between the single quote('') and double quote(\"\") In this 'spam' is the string.\n",
    "for example: 'hello', \"hello\" ,'100',\"100\" \n",
    "'hello' and hello is the string.\n",
    "'100' and \"100\" is also string becouse the they are used between the single quote and double quote.\n",
    "\n",
    "spam is the variable becouse we are not use single quote and double quote. and we can directly assign any value to the variable."
   ]
  },
  {
   "cell_type": "markdown",
   "metadata": {},
   "source": [
    "#### 3. Describe three different data forms."
   ]
  },
  {
   "cell_type": "code",
   "execution_count": null,
   "metadata": {},
   "outputs": [],
   "source": []
  },
  {
   "cell_type": "markdown",
   "metadata": {},
   "source": [
    "#### 4. What makes up an expression? What are the functions of all expressions?"
   ]
  },
  {
   "cell_type": "markdown",
   "metadata": {},
   "source": [
    "An expression is a combination of values, variables, operators, and calls to functions. Expressions need to be evaluated. If you ask Python to print an expression, the interpreter evaluates the expression and displays the result."
   ]
  },
  {
   "cell_type": "markdown",
   "metadata": {},
   "source": [
    "#### 5. In this chapter, assignment statements such as spam = 10 were added. What's the difference between a declaration and an expression?"
   ]
  },
  {
   "cell_type": "markdown",
   "metadata": {},
   "source": [
    "Ans: An expression is a combination of values, variables, operators, and calls to functions. Expressions need to be evaluated. If you ask Python to print an expression, the interpreter evaluates the expression and displays the result"
   ]
  },
  {
   "cell_type": "markdown",
   "metadata": {},
   "source": [
    "#### 6. After running the following code, what does the variable bacon contain?\n",
    "#### bacon = 22\n",
    "#### bacon + 1\n"
   ]
  },
  {
   "cell_type": "markdown",
   "metadata": {},
   "source": [
    "bacon = 22 bacon + 1 Ans : 23"
   ]
  },
  {
   "cell_type": "markdown",
   "metadata": {},
   "source": [
    "#### 7. What should the values of the following two terms be?\n",
    "\n",
    "#### 'spam' + 'spamspam'\n",
    "#### 'spam' * 3\n"
   ]
  },
  {
   "cell_type": "markdown",
   "metadata": {},
   "source": [
    "In this 'spam'+'spamspam'are concatenated two string but 'spam'*3 string are multiply by 3 . final result will be same 'spamspamspam'"
   ]
  },
  {
   "cell_type": "markdown",
   "metadata": {},
   "source": [
    "#### 8. Why is it that eggs is a true variable name but 100 is not?"
   ]
  },
  {
   "cell_type": "markdown",
   "metadata": {},
   "source": [
    "Ans: eggs is starting with character which follow rule for variable declaration. but 100 is denote as the integer value & varaible name can't initialize with number at the starting That's why eggs is true varaible name but 100 is not."
   ]
  },
  {
   "cell_type": "markdown",
   "metadata": {},
   "source": [
    "#### 9. Which of the following three functions may be used to convert a value to an integer, a floating-point number, or a string?"
   ]
  },
  {
   "cell_type": "markdown",
   "metadata": {},
   "source": [
    "One of the most used in python programming language convert to integer float and string. and this converting called typecasting. int() for converting to integer.when we are converting to string use str(). and when we are converting to float use float() function. For example. int(30.39),str(12344),float(10)"
   ]
  },
  {
   "cell_type": "markdown",
   "metadata": {},
   "source": [
    "#### 10. What is the error caused by this expression? What would you do about it?\n",
    "\n",
    "#### 'I have eaten ' + 99 + ' burritos.'\n"
   ]
  },
  {
   "cell_type": "markdown",
   "metadata": {},
   "source": [
    "when we run above statement we will get the TypeError becouse in python programming language do we can't cancatenete string and integer. when we 99 convert into string then we can cancatenete. i.e 'i have eaten'+str(99)+'burritos'."
   ]
  },
  {
   "cell_type": "code",
   "execution_count": null,
   "metadata": {},
   "outputs": [],
   "source": []
  }
 ],
 "metadata": {
  "kernelspec": {
   "display_name": "Python 3",
   "language": "python",
   "name": "python3"
  },
  "language_info": {
   "codemirror_mode": {
    "name": "ipython",
    "version": 3
   },
   "file_extension": ".py",
   "mimetype": "text/x-python",
   "name": "python",
   "nbconvert_exporter": "python",
   "pygments_lexer": "ipython3",
   "version": "3.8.5"
  }
 },
 "nbformat": 4,
 "nbformat_minor": 4
}
